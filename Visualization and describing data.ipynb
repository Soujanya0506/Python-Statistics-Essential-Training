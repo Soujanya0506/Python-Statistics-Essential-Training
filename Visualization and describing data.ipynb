{
 "cells": [
  {
   "cell_type": "code",
   "execution_count": 33,
   "metadata": {},
   "outputs": [],
   "source": [
    "import numpy as np\n",
    "import scipy.stats\n",
    "import pandas as pd"
   ]
  },
  {
   "cell_type": "code",
   "execution_count": 34,
   "metadata": {},
   "outputs": [],
   "source": [
    "import matplotlib\n",
    "import matplotlib.pyplot as pp\n",
    "\n",
    "from IPython import display\n",
    "from ipywidgets import interact, widgets\n",
    "\n",
    "%matplotlib inline"
   ]
  },
  {
   "cell_type": "code",
   "execution_count": 35,
   "metadata": {},
   "outputs": [],
   "source": [
    "import re\n",
    "import mailbox\n",
    "import csv"
   ]
  },
  {
   "cell_type": "code",
   "execution_count": 6,
   "metadata": {},
   "outputs": [
    {
     "data": {
      "text/html": [
       "<div>\n",
       "<style scoped>\n",
       "    .dataframe tbody tr th:only-of-type {\n",
       "        vertical-align: middle;\n",
       "    }\n",
       "\n",
       "    .dataframe tbody tr th {\n",
       "        vertical-align: top;\n",
       "    }\n",
       "\n",
       "    .dataframe thead th {\n",
       "        text-align: right;\n",
       "    }\n",
       "</style>\n",
       "<table border=\"1\" class=\"dataframe\">\n",
       "  <thead>\n",
       "    <tr style=\"text-align: right;\">\n",
       "      <th></th>\n",
       "      <th>country</th>\n",
       "      <th>year</th>\n",
       "      <th>region</th>\n",
       "      <th>population</th>\n",
       "      <th>life_expectancy</th>\n",
       "      <th>age5_surviving</th>\n",
       "      <th>babies_per_woman</th>\n",
       "      <th>gdp_per_capita</th>\n",
       "      <th>gdp_per_day</th>\n",
       "    </tr>\n",
       "  </thead>\n",
       "  <tbody>\n",
       "    <tr>\n",
       "      <th>0</th>\n",
       "      <td>Afghanistan</td>\n",
       "      <td>1800</td>\n",
       "      <td>Asia</td>\n",
       "      <td>3280000</td>\n",
       "      <td>28.21</td>\n",
       "      <td>53.142</td>\n",
       "      <td>7.00</td>\n",
       "      <td>603</td>\n",
       "      <td>1.650924</td>\n",
       "    </tr>\n",
       "    <tr>\n",
       "      <th>1</th>\n",
       "      <td>Afghanistan</td>\n",
       "      <td>1810</td>\n",
       "      <td>Asia</td>\n",
       "      <td>3280000</td>\n",
       "      <td>28.11</td>\n",
       "      <td>53.002</td>\n",
       "      <td>7.00</td>\n",
       "      <td>604</td>\n",
       "      <td>1.653662</td>\n",
       "    </tr>\n",
       "    <tr>\n",
       "      <th>2</th>\n",
       "      <td>Afghanistan</td>\n",
       "      <td>1820</td>\n",
       "      <td>Asia</td>\n",
       "      <td>3323519</td>\n",
       "      <td>28.01</td>\n",
       "      <td>52.862</td>\n",
       "      <td>7.00</td>\n",
       "      <td>604</td>\n",
       "      <td>1.653662</td>\n",
       "    </tr>\n",
       "    <tr>\n",
       "      <th>3</th>\n",
       "      <td>Afghanistan</td>\n",
       "      <td>1830</td>\n",
       "      <td>Asia</td>\n",
       "      <td>3448982</td>\n",
       "      <td>27.90</td>\n",
       "      <td>52.719</td>\n",
       "      <td>7.00</td>\n",
       "      <td>625</td>\n",
       "      <td>1.711157</td>\n",
       "    </tr>\n",
       "    <tr>\n",
       "      <th>4</th>\n",
       "      <td>Afghanistan</td>\n",
       "      <td>1840</td>\n",
       "      <td>Asia</td>\n",
       "      <td>3625022</td>\n",
       "      <td>27.80</td>\n",
       "      <td>52.576</td>\n",
       "      <td>7.00</td>\n",
       "      <td>647</td>\n",
       "      <td>1.771389</td>\n",
       "    </tr>\n",
       "    <tr>\n",
       "      <th>...</th>\n",
       "      <td>...</td>\n",
       "      <td>...</td>\n",
       "      <td>...</td>\n",
       "      <td>...</td>\n",
       "      <td>...</td>\n",
       "      <td>...</td>\n",
       "      <td>...</td>\n",
       "      <td>...</td>\n",
       "      <td>...</td>\n",
       "    </tr>\n",
       "    <tr>\n",
       "      <th>14735</th>\n",
       "      <td>Zimbabwe</td>\n",
       "      <td>2011</td>\n",
       "      <td>Africa</td>\n",
       "      <td>14255592</td>\n",
       "      <td>51.60</td>\n",
       "      <td>90.800</td>\n",
       "      <td>3.64</td>\n",
       "      <td>1626</td>\n",
       "      <td>4.451745</td>\n",
       "    </tr>\n",
       "    <tr>\n",
       "      <th>14736</th>\n",
       "      <td>Zimbabwe</td>\n",
       "      <td>2012</td>\n",
       "      <td>Africa</td>\n",
       "      <td>14565482</td>\n",
       "      <td>54.20</td>\n",
       "      <td>91.330</td>\n",
       "      <td>3.56</td>\n",
       "      <td>1750</td>\n",
       "      <td>4.791239</td>\n",
       "    </tr>\n",
       "    <tr>\n",
       "      <th>14737</th>\n",
       "      <td>Zimbabwe</td>\n",
       "      <td>2013</td>\n",
       "      <td>Africa</td>\n",
       "      <td>14898092</td>\n",
       "      <td>55.70</td>\n",
       "      <td>91.670</td>\n",
       "      <td>3.49</td>\n",
       "      <td>1773</td>\n",
       "      <td>4.854209</td>\n",
       "    </tr>\n",
       "    <tr>\n",
       "      <th>14738</th>\n",
       "      <td>Zimbabwe</td>\n",
       "      <td>2014</td>\n",
       "      <td>Africa</td>\n",
       "      <td>15245855</td>\n",
       "      <td>57.00</td>\n",
       "      <td>91.900</td>\n",
       "      <td>3.41</td>\n",
       "      <td>1773</td>\n",
       "      <td>4.854209</td>\n",
       "    </tr>\n",
       "    <tr>\n",
       "      <th>14739</th>\n",
       "      <td>Zimbabwe</td>\n",
       "      <td>2015</td>\n",
       "      <td>Africa</td>\n",
       "      <td>15602751</td>\n",
       "      <td>59.30</td>\n",
       "      <td>92.040</td>\n",
       "      <td>3.35</td>\n",
       "      <td>1801</td>\n",
       "      <td>4.930869</td>\n",
       "    </tr>\n",
       "  </tbody>\n",
       "</table>\n",
       "<p>14740 rows × 9 columns</p>\n",
       "</div>"
      ],
      "text/plain": [
       "           country  year  region  population  life_expectancy  age5_surviving  \\\n",
       "0      Afghanistan  1800    Asia     3280000            28.21          53.142   \n",
       "1      Afghanistan  1810    Asia     3280000            28.11          53.002   \n",
       "2      Afghanistan  1820    Asia     3323519            28.01          52.862   \n",
       "3      Afghanistan  1830    Asia     3448982            27.90          52.719   \n",
       "4      Afghanistan  1840    Asia     3625022            27.80          52.576   \n",
       "...            ...   ...     ...         ...              ...             ...   \n",
       "14735     Zimbabwe  2011  Africa    14255592            51.60          90.800   \n",
       "14736     Zimbabwe  2012  Africa    14565482            54.20          91.330   \n",
       "14737     Zimbabwe  2013  Africa    14898092            55.70          91.670   \n",
       "14738     Zimbabwe  2014  Africa    15245855            57.00          91.900   \n",
       "14739     Zimbabwe  2015  Africa    15602751            59.30          92.040   \n",
       "\n",
       "       babies_per_woman  gdp_per_capita  gdp_per_day  \n",
       "0                  7.00             603     1.650924  \n",
       "1                  7.00             604     1.653662  \n",
       "2                  7.00             604     1.653662  \n",
       "3                  7.00             625     1.711157  \n",
       "4                  7.00             647     1.771389  \n",
       "...                 ...             ...          ...  \n",
       "14735              3.64            1626     4.451745  \n",
       "14736              3.56            1750     4.791239  \n",
       "14737              3.49            1773     4.854209  \n",
       "14738              3.41            1773     4.854209  \n",
       "14739              3.35            1801     4.930869  \n",
       "\n",
       "[14740 rows x 9 columns]"
      ]
     },
     "execution_count": 6,
     "metadata": {},
     "output_type": "execute_result"
    }
   ],
   "source": [
    "gapminder = pd.read_csv('gapminder.csv')\n",
    "gapminder"
   ]
  },
  {
   "cell_type": "code",
   "execution_count": 8,
   "metadata": {},
   "outputs": [
    {
     "data": {
      "text/html": [
       "<div>\n",
       "<style scoped>\n",
       "    .dataframe tbody tr th:only-of-type {\n",
       "        vertical-align: middle;\n",
       "    }\n",
       "\n",
       "    .dataframe tbody tr th {\n",
       "        vertical-align: top;\n",
       "    }\n",
       "\n",
       "    .dataframe thead th {\n",
       "        text-align: right;\n",
       "    }\n",
       "</style>\n",
       "<table border=\"1\" class=\"dataframe\">\n",
       "  <thead>\n",
       "    <tr style=\"text-align: right;\">\n",
       "      <th></th>\n",
       "      <th>country</th>\n",
       "      <th>year</th>\n",
       "      <th>region</th>\n",
       "      <th>population</th>\n",
       "      <th>life_expectancy</th>\n",
       "      <th>age5_surviving</th>\n",
       "      <th>babies_per_woman</th>\n",
       "      <th>gdp_per_capita</th>\n",
       "      <th>gdp_per_day</th>\n",
       "    </tr>\n",
       "  </thead>\n",
       "  <tbody>\n",
       "    <tr>\n",
       "      <th>0</th>\n",
       "      <td>Afghanistan</td>\n",
       "      <td>1800</td>\n",
       "      <td>Asia</td>\n",
       "      <td>3280000</td>\n",
       "      <td>28.21</td>\n",
       "      <td>53.142</td>\n",
       "      <td>7.00</td>\n",
       "      <td>603</td>\n",
       "      <td>1.650924</td>\n",
       "    </tr>\n",
       "    <tr>\n",
       "      <th>20</th>\n",
       "      <td>Afghanistan</td>\n",
       "      <td>1955</td>\n",
       "      <td>Asia</td>\n",
       "      <td>8270024</td>\n",
       "      <td>29.27</td>\n",
       "      <td>60.193</td>\n",
       "      <td>7.67</td>\n",
       "      <td>1125</td>\n",
       "      <td>3.080082</td>\n",
       "    </tr>\n",
       "    <tr>\n",
       "      <th>40</th>\n",
       "      <td>Afghanistan</td>\n",
       "      <td>1975</td>\n",
       "      <td>Asia</td>\n",
       "      <td>12582954</td>\n",
       "      <td>39.61</td>\n",
       "      <td>72.060</td>\n",
       "      <td>7.67</td>\n",
       "      <td>1201</td>\n",
       "      <td>3.288159</td>\n",
       "    </tr>\n",
       "    <tr>\n",
       "      <th>60</th>\n",
       "      <td>Afghanistan</td>\n",
       "      <td>1995</td>\n",
       "      <td>Asia</td>\n",
       "      <td>16772522</td>\n",
       "      <td>49.40</td>\n",
       "      <td>84.770</td>\n",
       "      <td>7.83</td>\n",
       "      <td>872</td>\n",
       "      <td>2.387406</td>\n",
       "    </tr>\n",
       "    <tr>\n",
       "      <th>80</th>\n",
       "      <td>Afghanistan</td>\n",
       "      <td>2015</td>\n",
       "      <td>Asia</td>\n",
       "      <td>32526562</td>\n",
       "      <td>53.80</td>\n",
       "      <td>90.890</td>\n",
       "      <td>4.47</td>\n",
       "      <td>1925</td>\n",
       "      <td>5.270363</td>\n",
       "    </tr>\n",
       "    <tr>\n",
       "      <th>100</th>\n",
       "      <td>Albania</td>\n",
       "      <td>1954</td>\n",
       "      <td>Europe</td>\n",
       "      <td>1382881</td>\n",
       "      <td>56.59</td>\n",
       "      <td>84.829</td>\n",
       "      <td>6.31</td>\n",
       "      <td>2108</td>\n",
       "      <td>5.771389</td>\n",
       "    </tr>\n",
       "    <tr>\n",
       "      <th>120</th>\n",
       "      <td>Albania</td>\n",
       "      <td>1974</td>\n",
       "      <td>Europe</td>\n",
       "      <td>2358467</td>\n",
       "      <td>69.35</td>\n",
       "      <td>90.082</td>\n",
       "      <td>4.54</td>\n",
       "      <td>4177</td>\n",
       "      <td>11.436003</td>\n",
       "    </tr>\n",
       "    <tr>\n",
       "      <th>140</th>\n",
       "      <td>Albania</td>\n",
       "      <td>1994</td>\n",
       "      <td>Europe</td>\n",
       "      <td>3140634</td>\n",
       "      <td>73.60</td>\n",
       "      <td>96.540</td>\n",
       "      <td>2.77</td>\n",
       "      <td>3457</td>\n",
       "      <td>9.464750</td>\n",
       "    </tr>\n",
       "    <tr>\n",
       "      <th>160</th>\n",
       "      <td>Albania</td>\n",
       "      <td>2014</td>\n",
       "      <td>Europe</td>\n",
       "      <td>2889676</td>\n",
       "      <td>77.90</td>\n",
       "      <td>98.560</td>\n",
       "      <td>1.78</td>\n",
       "      <td>10160</td>\n",
       "      <td>27.816564</td>\n",
       "    </tr>\n",
       "    <tr>\n",
       "      <th>180</th>\n",
       "      <td>Algeria</td>\n",
       "      <td>1953</td>\n",
       "      <td>Africa</td>\n",
       "      <td>9405445</td>\n",
       "      <td>43.96</td>\n",
       "      <td>73.758</td>\n",
       "      <td>7.65</td>\n",
       "      <td>4077</td>\n",
       "      <td>11.162218</td>\n",
       "    </tr>\n",
       "    <tr>\n",
       "      <th>200</th>\n",
       "      <td>Algeria</td>\n",
       "      <td>1973</td>\n",
       "      <td>Africa</td>\n",
       "      <td>15804428</td>\n",
       "      <td>53.91</td>\n",
       "      <td>77.660</td>\n",
       "      <td>7.55</td>\n",
       "      <td>7581</td>\n",
       "      <td>20.755647</td>\n",
       "    </tr>\n",
       "  </tbody>\n",
       "</table>\n",
       "</div>"
      ],
      "text/plain": [
       "         country  year  region  population  life_expectancy  age5_surviving  \\\n",
       "0    Afghanistan  1800    Asia     3280000            28.21          53.142   \n",
       "20   Afghanistan  1955    Asia     8270024            29.27          60.193   \n",
       "40   Afghanistan  1975    Asia    12582954            39.61          72.060   \n",
       "60   Afghanistan  1995    Asia    16772522            49.40          84.770   \n",
       "80   Afghanistan  2015    Asia    32526562            53.80          90.890   \n",
       "100      Albania  1954  Europe     1382881            56.59          84.829   \n",
       "120      Albania  1974  Europe     2358467            69.35          90.082   \n",
       "140      Albania  1994  Europe     3140634            73.60          96.540   \n",
       "160      Albania  2014  Europe     2889676            77.90          98.560   \n",
       "180      Algeria  1953  Africa     9405445            43.96          73.758   \n",
       "200      Algeria  1973  Africa    15804428            53.91          77.660   \n",
       "\n",
       "     babies_per_woman  gdp_per_capita  gdp_per_day  \n",
       "0                7.00             603     1.650924  \n",
       "20               7.67            1125     3.080082  \n",
       "40               7.67            1201     3.288159  \n",
       "60               7.83             872     2.387406  \n",
       "80               4.47            1925     5.270363  \n",
       "100              6.31            2108     5.771389  \n",
       "120              4.54            4177    11.436003  \n",
       "140              2.77            3457     9.464750  \n",
       "160              1.78           10160    27.816564  \n",
       "180              7.65            4077    11.162218  \n",
       "200              7.55            7581    20.755647  "
      ]
     },
     "execution_count": 8,
     "metadata": {},
     "output_type": "execute_result"
    }
   ],
   "source": [
    "gapminder.loc[0:200:20]"
   ]
  },
  {
   "cell_type": "code",
   "execution_count": 9,
   "metadata": {},
   "outputs": [
    {
     "data": {
      "text/plain": [
       "<matplotlib.axes._subplots.AxesSubplot at 0x1e0b43e2708>"
      ]
     },
     "execution_count": 9,
     "metadata": {},
     "output_type": "execute_result"
    },
    {
     "data": {
      "image/png": "[encoded data removed]",
      "text/plain": [
       "<Figure size 432x288 with 1 Axes>"
      ]
     },
     "metadata": {
      "needs_background": "light"
     },
     "output_type": "display_data"
    }
   ],
   "source": [
    "gapminder[gapminder.year == 1965].plot.scatter('babies_per_woman','age5_surviving')"
   ]
  },
  {
   "cell_type": "code",
   "execution_count": 12,
   "metadata": {},
   "outputs": [],
   "source": [
    "def plotyear(year):\n",
    "    data = gapminder[gapminder.year == year]\n",
    "    area = 5e-6 * data.population\n",
    "    colors = data.region.map({'Africa': 'skyblue', 'Europe': 'gold', 'America': 'palegreen', 'Asia': 'coral'})\n",
    "    \n",
    "    data.plot.scatter('babies_per_woman','age5_surviving',\n",
    "                      s=area, c=colors, edgecolors='k',\n",
    "                     figsize=(12,9))\n",
    "    pp.axis(ymin=50,ymax=105,xmin=0,xmax=8)\n",
    "    pp.xlabel('babies per woman')\n",
    "    pp.ylabel('% children alive at 5')"
   ]
  },
  {
   "cell_type": "code",
   "execution_count": 13,
   "metadata": {},
   "outputs": [
    {
     "data": {
      "image/png": "[encoded data removed]",
      "text/plain": [
       "<Figure size 864x648 with 1 Axes>"
      ]
     },
     "metadata": {
      "needs_background": "light"
     },
     "output_type": "display_data"
    }
   ],
   "source": [
    "plotyear(1965)"
   ]
  },
  {
   "cell_type": "code",
   "execution_count": 14,
   "metadata": {},
   "outputs": [
    {
     "data": {
      "application/vnd.jupyter.widget-view+json": {
       "model_id": "115f0d1f83614c7f9de85a0199774f5a",
       "version_major": 2,
       "version_minor": 0
      },
      "text/plain": [
       "interactive(children=(IntSlider(value=1965, description='year', max=2015, min=1950), Output()), _dom_classes=(…"
      ]
     },
     "metadata": {},
     "output_type": "display_data"
    },
    {
     "data": {
      "text/plain": [
       "<function __main__.plotyear(year)>"
      ]
     },
     "execution_count": 14,
     "metadata": {},
     "output_type": "execute_result"
    }
   ],
   "source": [
    "interact(plotyear, year=widgets.IntSlider(min=1950, max=2015,step=1,value=1965))"
   ]
  },
  {
   "cell_type": "code",
   "execution_count": 16,
   "metadata": {},
   "outputs": [
    {
     "name": "stdout",
     "output_type": "stream",
     "text": [
      "<class 'pandas.core.frame.DataFrame'>\n",
      "RangeIndex: 14740 entries, 0 to 14739\n",
      "Data columns (total 9 columns):\n",
      " #   Column            Non-Null Count  Dtype  \n",
      "---  ------            --------------  -----  \n",
      " 0   country           14740 non-null  object \n",
      " 1   year              14740 non-null  int64  \n",
      " 2   region            14740 non-null  object \n",
      " 3   population        14740 non-null  int64  \n",
      " 4   life_expectancy   14740 non-null  float64\n",
      " 5   age5_surviving    14740 non-null  float64\n",
      " 6   babies_per_woman  14740 non-null  float64\n",
      " 7   gdp_per_capita    14740 non-null  int64  \n",
      " 8   gdp_per_day       14740 non-null  float64\n",
      "dtypes: float64(4), int64(3), object(2)\n",
      "memory usage: 1.0+ MB\n"
     ]
    }
   ],
   "source": [
    "gapminder.info()"
   ]
  },
  {
   "cell_type": "code",
   "execution_count": 17,
   "metadata": {},
   "outputs": [],
   "source": [
    "# Time Series\n",
    "italy = gapminder.query('country==\"Italy\"')"
   ]
  },
  {
   "cell_type": "code",
   "execution_count": 18,
   "metadata": {},
   "outputs": [
    {
     "data": {
      "text/html": [
       "<div>\n",
       "<style scoped>\n",
       "    .dataframe tbody tr th:only-of-type {\n",
       "        vertical-align: middle;\n",
       "    }\n",
       "\n",
       "    .dataframe tbody tr th {\n",
       "        vertical-align: top;\n",
       "    }\n",
       "\n",
       "    .dataframe thead th {\n",
       "        text-align: right;\n",
       "    }\n",
       "</style>\n",
       "<table border=\"1\" class=\"dataframe\">\n",
       "  <thead>\n",
       "    <tr style=\"text-align: right;\">\n",
       "      <th></th>\n",
       "      <th>country</th>\n",
       "      <th>year</th>\n",
       "      <th>region</th>\n",
       "      <th>population</th>\n",
       "      <th>life_expectancy</th>\n",
       "      <th>age5_surviving</th>\n",
       "      <th>babies_per_woman</th>\n",
       "      <th>gdp_per_capita</th>\n",
       "      <th>gdp_per_day</th>\n",
       "    </tr>\n",
       "  </thead>\n",
       "  <tbody>\n",
       "    <tr>\n",
       "      <th>6397</th>\n",
       "      <td>Italy</td>\n",
       "      <td>1800</td>\n",
       "      <td>Europe</td>\n",
       "      <td>18822234</td>\n",
       "      <td>29.69</td>\n",
       "      <td>54.259</td>\n",
       "      <td>5.47</td>\n",
       "      <td>2225</td>\n",
       "      <td>6.091718</td>\n",
       "    </tr>\n",
       "    <tr>\n",
       "      <th>6398</th>\n",
       "      <td>Italy</td>\n",
       "      <td>1810</td>\n",
       "      <td>Europe</td>\n",
       "      <td>19491674</td>\n",
       "      <td>29.69</td>\n",
       "      <td>54.395</td>\n",
       "      <td>5.47</td>\n",
       "      <td>2371</td>\n",
       "      <td>6.491444</td>\n",
       "    </tr>\n",
       "    <tr>\n",
       "      <th>6399</th>\n",
       "      <td>Italy</td>\n",
       "      <td>1820</td>\n",
       "      <td>Europe</td>\n",
       "      <td>20341608</td>\n",
       "      <td>29.69</td>\n",
       "      <td>54.531</td>\n",
       "      <td>5.47</td>\n",
       "      <td>2474</td>\n",
       "      <td>6.773443</td>\n",
       "    </tr>\n",
       "    <tr>\n",
       "      <th>6400</th>\n",
       "      <td>Italy</td>\n",
       "      <td>1830</td>\n",
       "      <td>Europe</td>\n",
       "      <td>21529667</td>\n",
       "      <td>29.69</td>\n",
       "      <td>54.667</td>\n",
       "      <td>5.47</td>\n",
       "      <td>2471</td>\n",
       "      <td>6.765229</td>\n",
       "    </tr>\n",
       "    <tr>\n",
       "      <th>6401</th>\n",
       "      <td>Italy</td>\n",
       "      <td>1840</td>\n",
       "      <td>Europe</td>\n",
       "      <td>22956667</td>\n",
       "      <td>29.69</td>\n",
       "      <td>54.804</td>\n",
       "      <td>5.47</td>\n",
       "      <td>2524</td>\n",
       "      <td>6.910335</td>\n",
       "    </tr>\n",
       "  </tbody>\n",
       "</table>\n",
       "</div>"
      ],
      "text/plain": [
       "     country  year  region  population  life_expectancy  age5_surviving  \\\n",
       "6397   Italy  1800  Europe    18822234            29.69          54.259   \n",
       "6398   Italy  1810  Europe    19491674            29.69          54.395   \n",
       "6399   Italy  1820  Europe    20341608            29.69          54.531   \n",
       "6400   Italy  1830  Europe    21529667            29.69          54.667   \n",
       "6401   Italy  1840  Europe    22956667            29.69          54.804   \n",
       "\n",
       "      babies_per_woman  gdp_per_capita  gdp_per_day  \n",
       "6397              5.47            2225     6.091718  \n",
       "6398              5.47            2371     6.491444  \n",
       "6399              5.47            2474     6.773443  \n",
       "6400              5.47            2471     6.765229  \n",
       "6401              5.47            2524     6.910335  "
      ]
     },
     "execution_count": 18,
     "metadata": {},
     "output_type": "execute_result"
    }
   ],
   "source": [
    "italy.head()"
   ]
  },
  {
   "cell_type": "code",
   "execution_count": 19,
   "metadata": {},
   "outputs": [
    {
     "data": {
      "text/plain": [
       "<matplotlib.axes._subplots.AxesSubplot at 0x1e0b69f9508>"
      ]
     },
     "execution_count": 19,
     "metadata": {},
     "output_type": "execute_result"
    },
    {
     "data": {
      "image/png": "[encoded data removed]",
      "text/plain": [
       "<Figure size 432x288 with 1 Axes>"
      ]
     },
     "metadata": {
      "needs_background": "light"
     },
     "output_type": "display_data"
    }
   ],
   "source": [
    "italy.plot.scatter(\"year\",\"population\")"
   ]
  },
  {
   "cell_type": "code",
   "execution_count": 20,
   "metadata": {},
   "outputs": [
    {
     "data": {
      "text/plain": [
       "<matplotlib.axes._subplots.AxesSubplot at 0x1e0b64268c8>"
      ]
     },
     "execution_count": 20,
     "metadata": {},
     "output_type": "execute_result"
    },
    {
     "data": {
      "image/png": "[encoded data removed]",
      "text/plain": [
       "<Figure size 432x288 with 1 Axes>"
      ]
     },
     "metadata": {
      "needs_background": "light"
     },
     "output_type": "display_data"
    }
   ],
   "source": [
    "gapminder.query('country==\"India\"').plot.scatter(\"year\",\"population\")"
   ]
  },
  {
   "cell_type": "code",
   "execution_count": 21,
   "metadata": {},
   "outputs": [
    {
     "data": {
      "text/plain": [
       "<matplotlib.axes._subplots.AxesSubplot at 0x1e0b6911dc8>"
      ]
     },
     "execution_count": 21,
     "metadata": {},
     "output_type": "execute_result"
    },
    {
     "data": {
      "image/png": "[encoded data removed]",
      "text/plain": [
       "<Figure size 432x288 with 1 Axes>"
      ]
     },
     "metadata": {
      "needs_background": "light"
     },
     "output_type": "display_data"
    }
   ],
   "source": [
    "italy.plot.scatter(\"year\",\"gdp_per_day\",logy=True)"
   ]
  },
  {
   "cell_type": "code",
   "execution_count": 24,
   "metadata": {},
   "outputs": [
    {
     "data": {
      "text/plain": [
       "<matplotlib.axes._subplots.AxesSubplot at 0x1e0b6a2c948>"
      ]
     },
     "execution_count": 24,
     "metadata": {},
     "output_type": "execute_result"
    },
    {
     "data": {
      "image/png": "[encoded data removed]",
      "text/plain": [
       "<Figure size 432x288 with 1 Axes>"
      ]
     },
     "metadata": {
      "needs_background": "light"
     },
     "output_type": "display_data"
    }
   ],
   "source": [
    "italy.plot.scatter(\"gdp_per_day\",\"life_expectancy\",logx=True)"
   ]
  },
  {
   "cell_type": "code",
   "execution_count": 26,
   "metadata": {},
   "outputs": [
    {
     "data": {
      "text/plain": [
       "<matplotlib.axes._subplots.AxesSubplot at 0x1e0b66e7f08>"
      ]
     },
     "execution_count": 26,
     "metadata": {},
     "output_type": "execute_result"
    },
    {
     "data": {
      "image/png": "[encoded data removed]",
      "text/plain": [
       "<Figure size 432x288 with 1 Axes>"
      ]
     },
     "metadata": {
      "needs_background": "light"
     },
     "output_type": "display_data"
    }
   ],
   "source": [
    "size = np.where(italy.year % 10 == 0,30,2)\n",
    "\n",
    "italy.plot.scatter(\"gdp_per_day\",\"life_expectancy\",logx=True,s=size)"
   ]
  },
  {
   "cell_type": "code",
   "execution_count": 28,
   "metadata": {},
   "outputs": [
    {
     "data": {
      "text/plain": [
       "<matplotlib.axes._subplots.AxesSubplot at 0x1e0b6b4d608>"
      ]
     },
     "execution_count": 28,
     "metadata": {},
     "output_type": "execute_result"
    },
    {
     "data": {
      "image/png": "[encoded data removed]",
      "text/plain": [
       "<Figure size 432x288 with 1 Axes>"
      ]
     },
     "metadata": {
      "needs_background": "light"
     },
     "output_type": "display_data"
    }
   ],
   "source": [
    "data = gapminder.query('(country == \"Italy\") or (country == \"United States\")')\n",
    "size = np.where(data.year % 10 == 0,30,2)\n",
    "color = np.where(data.country == 'Italy','blue','orange')\n",
    "data.plot.scatter(\"gdp_per_day\", \"life_expectancy\", logx=True, s=size, c=color)"
   ]
  },
  {
   "cell_type": "code",
   "execution_count": 30,
   "metadata": {},
   "outputs": [
    {
     "data": {
      "text/plain": [
       "<matplotlib.axes._subplots.AxesSubplot at 0x1e0b8bcc088>"
      ]
     },
     "execution_count": 30,
     "metadata": {},
     "output_type": "execute_result"
    },
    {
     "data": {
      "image/png": "[encoded data removed]",
      "text/plain": [
       "<Figure size 432x288 with 1 Axes>"
      ]
     },
     "metadata": {
      "needs_background": "light"
     },
     "output_type": "display_data"
    }
   ],
   "source": [
    "data = gapminder.query('(country == \"China\") or (country == \"United States\")')\n",
    "\n",
    "size = np.where(data.year % 10 == 0,30,2)\n",
    "color = np.where(data.country == 'China','red','orange')\n",
    "\n",
    "ax = data.plot.scatter(\"gdp_per_day\",\"life_expectancy\", logx=True, s=size, c=color)\n",
    "\n",
    "data[data.country == 'China'].plot.line(x='gdp_per_day',y='life_expectancy',ax=ax)"
   ]
  },
  {
   "cell_type": "code",
   "execution_count": 6,
   "metadata": {},
   "outputs": [],
   "source": [
    "import numpy as np\n",
    "import scipy.stats\n",
    "import pandas as pd\n",
    "\n",
    "import matplotlib\n",
    "import matplotlib.pyplot as pp\n",
    "import pandas.plotting\n",
    "\n",
    "from IPython import display\n",
    "from ipywidgets import interact, widgets\n",
    "\n",
    "%matplotlib inline\n",
    "\n",
    "import re\n",
    "import mailbox\n",
    "import csv"
   ]
  },
  {
   "cell_type": "code",
   "execution_count": 4,
   "metadata": {},
   "outputs": [
    {
     "data": {
      "text/html": [
       "<div>\n",
       "<style scoped>\n",
       "    .dataframe tbody tr th:only-of-type {\n",
       "        vertical-align: middle;\n",
       "    }\n",
       "\n",
       "    .dataframe tbody tr th {\n",
       "        vertical-align: top;\n",
       "    }\n",
       "\n",
       "    .dataframe thead th {\n",
       "        text-align: right;\n",
       "    }\n",
       "</style>\n",
       "<table border=\"1\" class=\"dataframe\">\n",
       "  <thead>\n",
       "    <tr style=\"text-align: right;\">\n",
       "      <th></th>\n",
       "      <th>country</th>\n",
       "      <th>year</th>\n",
       "      <th>region</th>\n",
       "      <th>population</th>\n",
       "      <th>life_expectancy</th>\n",
       "      <th>age5_surviving</th>\n",
       "      <th>babies_per_woman</th>\n",
       "      <th>gdp_per_capita</th>\n",
       "      <th>gdp_per_day</th>\n",
       "    </tr>\n",
       "  </thead>\n",
       "  <tbody>\n",
       "    <tr>\n",
       "      <th>0</th>\n",
       "      <td>Afghanistan</td>\n",
       "      <td>1800</td>\n",
       "      <td>Asia</td>\n",
       "      <td>3280000</td>\n",
       "      <td>28.21</td>\n",
       "      <td>53.142</td>\n",
       "      <td>7.00</td>\n",
       "      <td>603</td>\n",
       "      <td>1.650924</td>\n",
       "    </tr>\n",
       "    <tr>\n",
       "      <th>1</th>\n",
       "      <td>Afghanistan</td>\n",
       "      <td>1810</td>\n",
       "      <td>Asia</td>\n",
       "      <td>3280000</td>\n",
       "      <td>28.11</td>\n",
       "      <td>53.002</td>\n",
       "      <td>7.00</td>\n",
       "      <td>604</td>\n",
       "      <td>1.653662</td>\n",
       "    </tr>\n",
       "    <tr>\n",
       "      <th>2</th>\n",
       "      <td>Afghanistan</td>\n",
       "      <td>1820</td>\n",
       "      <td>Asia</td>\n",
       "      <td>3323519</td>\n",
       "      <td>28.01</td>\n",
       "      <td>52.862</td>\n",
       "      <td>7.00</td>\n",
       "      <td>604</td>\n",
       "      <td>1.653662</td>\n",
       "    </tr>\n",
       "    <tr>\n",
       "      <th>3</th>\n",
       "      <td>Afghanistan</td>\n",
       "      <td>1830</td>\n",
       "      <td>Asia</td>\n",
       "      <td>3448982</td>\n",
       "      <td>27.90</td>\n",
       "      <td>52.719</td>\n",
       "      <td>7.00</td>\n",
       "      <td>625</td>\n",
       "      <td>1.711157</td>\n",
       "    </tr>\n",
       "    <tr>\n",
       "      <th>4</th>\n",
       "      <td>Afghanistan</td>\n",
       "      <td>1840</td>\n",
       "      <td>Asia</td>\n",
       "      <td>3625022</td>\n",
       "      <td>27.80</td>\n",
       "      <td>52.576</td>\n",
       "      <td>7.00</td>\n",
       "      <td>647</td>\n",
       "      <td>1.771389</td>\n",
       "    </tr>\n",
       "    <tr>\n",
       "      <th>...</th>\n",
       "      <td>...</td>\n",
       "      <td>...</td>\n",
       "      <td>...</td>\n",
       "      <td>...</td>\n",
       "      <td>...</td>\n",
       "      <td>...</td>\n",
       "      <td>...</td>\n",
       "      <td>...</td>\n",
       "      <td>...</td>\n",
       "    </tr>\n",
       "    <tr>\n",
       "      <th>14735</th>\n",
       "      <td>Zimbabwe</td>\n",
       "      <td>2011</td>\n",
       "      <td>Africa</td>\n",
       "      <td>14255592</td>\n",
       "      <td>51.60</td>\n",
       "      <td>90.800</td>\n",
       "      <td>3.64</td>\n",
       "      <td>1626</td>\n",
       "      <td>4.451745</td>\n",
       "    </tr>\n",
       "    <tr>\n",
       "      <th>14736</th>\n",
       "      <td>Zimbabwe</td>\n",
       "      <td>2012</td>\n",
       "      <td>Africa</td>\n",
       "      <td>14565482</td>\n",
       "      <td>54.20</td>\n",
       "      <td>91.330</td>\n",
       "      <td>3.56</td>\n",
       "      <td>1750</td>\n",
       "      <td>4.791239</td>\n",
       "    </tr>\n",
       "    <tr>\n",
       "      <th>14737</th>\n",
       "      <td>Zimbabwe</td>\n",
       "      <td>2013</td>\n",
       "      <td>Africa</td>\n",
       "      <td>14898092</td>\n",
       "      <td>55.70</td>\n",
       "      <td>91.670</td>\n",
       "      <td>3.49</td>\n",
       "      <td>1773</td>\n",
       "      <td>4.854209</td>\n",
       "    </tr>\n",
       "    <tr>\n",
       "      <th>14738</th>\n",
       "      <td>Zimbabwe</td>\n",
       "      <td>2014</td>\n",
       "      <td>Africa</td>\n",
       "      <td>15245855</td>\n",
       "      <td>57.00</td>\n",
       "      <td>91.900</td>\n",
       "      <td>3.41</td>\n",
       "      <td>1773</td>\n",
       "      <td>4.854209</td>\n",
       "    </tr>\n",
       "    <tr>\n",
       "      <th>14739</th>\n",
       "      <td>Zimbabwe</td>\n",
       "      <td>2015</td>\n",
       "      <td>Africa</td>\n",
       "      <td>15602751</td>\n",
       "      <td>59.30</td>\n",
       "      <td>92.040</td>\n",
       "      <td>3.35</td>\n",
       "      <td>1801</td>\n",
       "      <td>4.930869</td>\n",
       "    </tr>\n",
       "  </tbody>\n",
       "</table>\n",
       "<p>14740 rows × 9 columns</p>\n",
       "</div>"
      ],
      "text/plain": [
       "           country  year  region  population  life_expectancy  age5_surviving  \\\n",
       "0      Afghanistan  1800    Asia     3280000            28.21          53.142   \n",
       "1      Afghanistan  1810    Asia     3280000            28.11          53.002   \n",
       "2      Afghanistan  1820    Asia     3323519            28.01          52.862   \n",
       "3      Afghanistan  1830    Asia     3448982            27.90          52.719   \n",
       "4      Afghanistan  1840    Asia     3625022            27.80          52.576   \n",
       "...            ...   ...     ...         ...              ...             ...   \n",
       "14735     Zimbabwe  2011  Africa    14255592            51.60          90.800   \n",
       "14736     Zimbabwe  2012  Africa    14565482            54.20          91.330   \n",
       "14737     Zimbabwe  2013  Africa    14898092            55.70          91.670   \n",
       "14738     Zimbabwe  2014  Africa    15245855            57.00          91.900   \n",
       "14739     Zimbabwe  2015  Africa    15602751            59.30          92.040   \n",
       "\n",
       "       babies_per_woman  gdp_per_capita  gdp_per_day  \n",
       "0                  7.00             603     1.650924  \n",
       "1                  7.00             604     1.653662  \n",
       "2                  7.00             604     1.653662  \n",
       "3                  7.00             625     1.711157  \n",
       "4                  7.00             647     1.771389  \n",
       "...                 ...             ...          ...  \n",
       "14735              3.64            1626     4.451745  \n",
       "14736              3.56            1750     4.791239  \n",
       "14737              3.49            1773     4.854209  \n",
       "14738              3.41            1773     4.854209  \n",
       "14739              3.35            1801     4.930869  \n",
       "\n",
       "[14740 rows x 9 columns]"
      ]
     },
     "execution_count": 4,
     "metadata": {},
     "output_type": "execute_result"
    }
   ],
   "source": [
    "gapminder = pd.read_csv('gapminder.csv')\n",
    "gapminder"
   ]
  },
  {
   "cell_type": "code",
   "execution_count": 8,
   "metadata": {},
   "outputs": [
    {
     "data": {
      "image/png": "[encoded data removed]",
      "text/plain": [
       "<Figure size 432x288 with 1 Axes>"
      ]
     },
     "metadata": {
      "needs_background": "light"
     },
     "output_type": "display_data"
    }
   ],
   "source": [
    "def plotyear(year):\n",
    "    data = gapminder[gapminder.year == year]\n",
    "    \n",
    "    data.plot.scatter('gdp_per_day','life_expectancy',logx=True)\n",
    "\n",
    "plotyear(1965)"
   ]
  },
  {
   "cell_type": "code",
   "execution_count": 26,
   "metadata": {
    "scrolled": true
   },
   "outputs": [
    {
     "data": {
      "image/png": "[encoded data removed]",
      "text/plain": [
       "<Figure size 432x288 with 2 Axes>"
      ]
     },
     "metadata": {
      "needs_background": "light"
     },
     "output_type": "display_data"
    }
   ],
   "source": [
    "def plotyear(year):\n",
    "    data = gapminder[gapminder.year == year].sort_values('population',ascending=False)\n",
    "    area = 5e-6 * data.population\n",
    "    color = data.age5_surviving\n",
    "    edgecolor = data.region.map({'Africa':'skyblue','Europe':'gold','America':'palegreen','Asia':'coral'})\n",
    "    data.plot.scatter('gdp_per_day','life_expectancy',logx=True,\n",
    "                     s=area, colormap=matplotlib.cm.get_cmap('Purples_r'),vmin=55, vmax=100,\n",
    "                      linewidths=1, edgecolors=edgecolor, sharex=False)\n",
    "    pp.axis(xmin=1,xmax=500,ymin=10,ymax=100)\n",
    "plotyear(1965)"
   ]
  },
  {
   "cell_type": "code",
   "execution_count": 28,
   "metadata": {},
   "outputs": [
    {
     "data": {
      "application/vnd.jupyter.widget-view+json": {
       "model_id": "fdaff3d3eb804cca85bf8b2db2f3a8ec",
       "version_major": 2,
       "version_minor": 0
      },
      "text/plain": [
       "interactive(children=(Dropdown(description='year', options=(1965, 1975, 1985, 1995, 2005, 2015), value=1965), …"
      ]
     },
     "metadata": {},
     "output_type": "display_data"
    },
    {
     "data": {
      "text/plain": [
       "<function __main__.plotyear(year)>"
      ]
     },
     "execution_count": 28,
     "metadata": {},
     "output_type": "execute_result"
    }
   ],
   "source": [
    "interact(plotyear,year=range(1965,2016,10))"
   ]
  },
  {
   "cell_type": "code",
   "execution_count": 29,
   "metadata": {},
   "outputs": [
    {
     "data": {
      "text/plain": [
       "7292414176"
      ]
     },
     "execution_count": 29,
     "metadata": {},
     "output_type": "execute_result"
    }
   ],
   "source": [
    "gapminder[gapminder.year == 2015].population.sum()"
   ]
  },
  {
   "cell_type": "code",
   "execution_count": 30,
   "metadata": {},
   "outputs": [
    {
     "data": {
      "text/plain": [
       "region\n",
       "Africa     1172160800\n",
       "America     986577100\n",
       "Asia       4299141788\n",
       "Europe      834534488\n",
       "Name: population, dtype: int64"
      ]
     },
     "execution_count": 30,
     "metadata": {},
     "output_type": "execute_result"
    }
   ],
   "source": [
    "gapminder[gapminder.year == 2015].groupby('region').population.sum()"
   ]
  },
  {
   "cell_type": "code",
   "execution_count": 31,
   "metadata": {},
   "outputs": [
    {
     "data": {
      "image/png": "[encoded data removed]",
      "text/plain": [
       "<Figure size 432x288 with 2 Axes>"
      ]
     },
     "metadata": {
      "needs_background": "light"
     },
     "output_type": "display_data"
    }
   ],
   "source": [
    "def plotyear(year):\n",
    "    data = gapminder[gapminder.year == year].sort_values('population',ascending=False)\n",
    "    area = 5e-6 * data.population\n",
    "    color = data.age5_surviving\n",
    "    edgecolor = data.region.map({'Africa':'skyblue','Europe':'gold','America':'palegreen','Asia':'coral'})\n",
    "    data.plot.scatter('gdp_per_day','life_expectancy',logx=True,\n",
    "                     s=area, colormap=matplotlib.cm.get_cmap('Purples_r'),vmin=55, vmax=100,\n",
    "                      linewidths=1, edgecolors=edgecolor, sharex=False)\n",
    "    for level in (4,16,64):\n",
    "        pp.axvline(level,linestyle=':',color='k')\n",
    "    pp.axis(xmin=1,xmax=500,ymin=10,ymax=100)\n",
    "plotyear(1965)"
   ]
  },
  {
   "cell_type": "code",
   "execution_count": 36,
   "metadata": {},
   "outputs": [
    {
     "ename": "NameError",
     "evalue": "name 'figsize' is not defined",
     "output_type": "error",
     "traceback": [
      "\u001b[1;31m---------------------------------------------------------------------------\u001b[0m",
      "\u001b[1;31mNameError\u001b[0m                                 Traceback (most recent call last)",
      "\u001b[1;32m<ipython-input-36-918e0e947f98>\u001b[0m in \u001b[0;36m<module>\u001b[1;34m\u001b[0m\n\u001b[0;32m      1\u001b[0m \u001b[0mdata\u001b[0m \u001b[1;33m=\u001b[0m \u001b[0mgapminder\u001b[0m\u001b[1;33m.\u001b[0m\u001b[0mloc\u001b[0m\u001b[1;33m[\u001b[0m\u001b[0mgapminder\u001b[0m\u001b[1;33m.\u001b[0m\u001b[0myear\u001b[0m \u001b[1;33m==\u001b[0m \u001b[1;36m2015\u001b[0m\u001b[1;33m,\u001b[0m\u001b[1;33m[\u001b[0m\u001b[1;34m'gdp_per_day'\u001b[0m\u001b[1;33m,\u001b[0m\u001b[1;34m'life_expectancy'\u001b[0m\u001b[1;33m,\u001b[0m\u001b[1;34m'age5_surviving'\u001b[0m\u001b[1;33m,\u001b[0m\u001b[1;34m'babies_per_woman'\u001b[0m\u001b[1;33m]\u001b[0m\u001b[1;33m]\u001b[0m\u001b[1;33m\u001b[0m\u001b[1;33m\u001b[0m\u001b[0m\n\u001b[1;32m----> 2\u001b[1;33m \u001b[0mpandas\u001b[0m\u001b[1;33m.\u001b[0m\u001b[0mplotting\u001b[0m\u001b[1;33m.\u001b[0m\u001b[0mscatter_matrix\u001b[0m\u001b[1;33m(\u001b[0m\u001b[0mdata\u001b[0m\u001b[1;33m,\u001b[0m\u001b[0mfigsize\u001b[0m\u001b[1;33m(\u001b[0m\u001b[1;36m9\u001b[0m\u001b[1;33m,\u001b[0m\u001b[1;36m9\u001b[0m\u001b[1;33m)\u001b[0m\u001b[1;33m)\u001b[0m\u001b[1;33m\u001b[0m\u001b[1;33m\u001b[0m\u001b[0m\n\u001b[0m",
      "\u001b[1;31mNameError\u001b[0m: name 'figsize' is not defined"
     ]
    }
   ],
   "source": [
    "data = gapminder.loc[gapminder.year == 2015,['gdp_per_day','life_expectancy','age5_surviving','babies_per_woman']]\n",
    "pandas.plotting.scatter_matrix(data,figsize(9,9))"
   ]
  },
  {
   "cell_type": "code",
   "execution_count": 37,
   "metadata": {},
   "outputs": [],
   "source": [
    "import numpy as np\n",
    "import scipy.stats\n",
    "import pandas as pd\n",
    "\n",
    "import matplotlib\n",
    "import matplotlib.pyplot as pp\n",
    "import pandas.plotting\n",
    "\n",
    "from IPython import display\n",
    "from ipywidgets import interact, widgets\n",
    "\n",
    "%matplotlib inline\n",
    "\n",
    "import re\n",
    "import mailbox\n",
    "import csv"
   ]
  },
  {
   "cell_type": "code",
   "execution_count": 38,
   "metadata": {},
   "outputs": [],
   "source": [
    "smoking = pd.read_csv('whickham.csv')"
   ]
  },
  {
   "cell_type": "code",
   "execution_count": 39,
   "metadata": {},
   "outputs": [
    {
     "name": "stdout",
     "output_type": "stream",
     "text": [
      "<class 'pandas.core.frame.DataFrame'>\n",
      "RangeIndex: 1314 entries, 0 to 1313\n",
      "Data columns (total 3 columns):\n",
      " #   Column   Non-Null Count  Dtype \n",
      "---  ------   --------------  ----- \n",
      " 0   outcome  1314 non-null   object\n",
      " 1   smoker   1314 non-null   object\n",
      " 2   age      1314 non-null   int64 \n",
      "dtypes: int64(1), object(2)\n",
      "memory usage: 30.9+ KB\n"
     ]
    }
   ],
   "source": [
    "smoking.info()"
   ]
  },
  {
   "cell_type": "code",
   "execution_count": 40,
   "metadata": {},
   "outputs": [
    {
     "data": {
      "text/html": [
       "<div>\n",
       "<style scoped>\n",
       "    .dataframe tbody tr th:only-of-type {\n",
       "        vertical-align: middle;\n",
       "    }\n",
       "\n",
       "    .dataframe tbody tr th {\n",
       "        vertical-align: top;\n",
       "    }\n",
       "\n",
       "    .dataframe thead th {\n",
       "        text-align: right;\n",
       "    }\n",
       "</style>\n",
       "<table border=\"1\" class=\"dataframe\">\n",
       "  <thead>\n",
       "    <tr style=\"text-align: right;\">\n",
       "      <th></th>\n",
       "      <th>outcome</th>\n",
       "      <th>smoker</th>\n",
       "      <th>age</th>\n",
       "    </tr>\n",
       "  </thead>\n",
       "  <tbody>\n",
       "    <tr>\n",
       "      <th>0</th>\n",
       "      <td>Alive</td>\n",
       "      <td>Yes</td>\n",
       "      <td>23</td>\n",
       "    </tr>\n",
       "    <tr>\n",
       "      <th>1</th>\n",
       "      <td>Alive</td>\n",
       "      <td>Yes</td>\n",
       "      <td>18</td>\n",
       "    </tr>\n",
       "    <tr>\n",
       "      <th>2</th>\n",
       "      <td>Dead</td>\n",
       "      <td>Yes</td>\n",
       "      <td>71</td>\n",
       "    </tr>\n",
       "    <tr>\n",
       "      <th>3</th>\n",
       "      <td>Alive</td>\n",
       "      <td>No</td>\n",
       "      <td>67</td>\n",
       "    </tr>\n",
       "    <tr>\n",
       "      <th>4</th>\n",
       "      <td>Alive</td>\n",
       "      <td>No</td>\n",
       "      <td>64</td>\n",
       "    </tr>\n",
       "  </tbody>\n",
       "</table>\n",
       "</div>"
      ],
      "text/plain": [
       "  outcome smoker  age\n",
       "0   Alive    Yes   23\n",
       "1   Alive    Yes   18\n",
       "2    Dead    Yes   71\n",
       "3   Alive     No   67\n",
       "4   Alive     No   64"
      ]
     },
     "execution_count": 40,
     "metadata": {},
     "output_type": "execute_result"
    }
   ],
   "source": [
    "smoking.head()"
   ]
  },
  {
   "cell_type": "code",
   "execution_count": 41,
   "metadata": {},
   "outputs": [
    {
     "data": {
      "text/html": [
       "<div>\n",
       "<style scoped>\n",
       "    .dataframe tbody tr th:only-of-type {\n",
       "        vertical-align: middle;\n",
       "    }\n",
       "\n",
       "    .dataframe tbody tr th {\n",
       "        vertical-align: top;\n",
       "    }\n",
       "\n",
       "    .dataframe thead th {\n",
       "        text-align: right;\n",
       "    }\n",
       "</style>\n",
       "<table border=\"1\" class=\"dataframe\">\n",
       "  <thead>\n",
       "    <tr style=\"text-align: right;\">\n",
       "      <th></th>\n",
       "      <th>smoker</th>\n",
       "    </tr>\n",
       "  </thead>\n",
       "  <tbody>\n",
       "    <tr>\n",
       "      <th>No</th>\n",
       "      <td>732</td>\n",
       "    </tr>\n",
       "    <tr>\n",
       "      <th>Yes</th>\n",
       "      <td>582</td>\n",
       "    </tr>\n",
       "  </tbody>\n",
       "</table>\n",
       "</div>"
      ],
      "text/plain": [
       "     smoker\n",
       "No      732\n",
       "Yes     582"
      ]
     },
     "execution_count": 41,
     "metadata": {},
     "output_type": "execute_result"
    }
   ],
   "source": [
    "pd.DataFrame(smoking.smoker.value_counts())"
   ]
  },
  {
   "cell_type": "code",
   "execution_count": 42,
   "metadata": {},
   "outputs": [
    {
     "data": {
      "text/html": [
       "<div>\n",
       "<style scoped>\n",
       "    .dataframe tbody tr th:only-of-type {\n",
       "        vertical-align: middle;\n",
       "    }\n",
       "\n",
       "    .dataframe tbody tr th {\n",
       "        vertical-align: top;\n",
       "    }\n",
       "\n",
       "    .dataframe thead th {\n",
       "        text-align: right;\n",
       "    }\n",
       "</style>\n",
       "<table border=\"1\" class=\"dataframe\">\n",
       "  <thead>\n",
       "    <tr style=\"text-align: right;\">\n",
       "      <th></th>\n",
       "      <th>outcome</th>\n",
       "    </tr>\n",
       "  </thead>\n",
       "  <tbody>\n",
       "    <tr>\n",
       "      <th>Alive</th>\n",
       "      <td>945</td>\n",
       "    </tr>\n",
       "    <tr>\n",
       "      <th>Dead</th>\n",
       "      <td>369</td>\n",
       "    </tr>\n",
       "  </tbody>\n",
       "</table>\n",
       "</div>"
      ],
      "text/plain": [
       "       outcome\n",
       "Alive      945\n",
       "Dead       369"
      ]
     },
     "execution_count": 42,
     "metadata": {},
     "output_type": "execute_result"
    }
   ],
   "source": [
    "pd.DataFrame(smoking.outcome.value_counts())"
   ]
  },
  {
   "cell_type": "code",
   "execution_count": 43,
   "metadata": {},
   "outputs": [
    {
     "data": {
      "text/html": [
       "<div>\n",
       "<style scoped>\n",
       "    .dataframe tbody tr th:only-of-type {\n",
       "        vertical-align: middle;\n",
       "    }\n",
       "\n",
       "    .dataframe tbody tr th {\n",
       "        vertical-align: top;\n",
       "    }\n",
       "\n",
       "    .dataframe thead th {\n",
       "        text-align: right;\n",
       "    }\n",
       "</style>\n",
       "<table border=\"1\" class=\"dataframe\">\n",
       "  <thead>\n",
       "    <tr style=\"text-align: right;\">\n",
       "      <th></th>\n",
       "      <th>outcome</th>\n",
       "    </tr>\n",
       "  </thead>\n",
       "  <tbody>\n",
       "    <tr>\n",
       "      <th>Alive</th>\n",
       "      <td>0.719178</td>\n",
       "    </tr>\n",
       "    <tr>\n",
       "      <th>Dead</th>\n",
       "      <td>0.280822</td>\n",
       "    </tr>\n",
       "  </tbody>\n",
       "</table>\n",
       "</div>"
      ],
      "text/plain": [
       "        outcome\n",
       "Alive  0.719178\n",
       "Dead   0.280822"
      ]
     },
     "execution_count": 43,
     "metadata": {},
     "output_type": "execute_result"
    }
   ],
   "source": [
    "pd.DataFrame(smoking.outcome.value_counts(normalize=True))"
   ]
  },
  {
   "cell_type": "code",
   "execution_count": 44,
   "metadata": {},
   "outputs": [
    {
     "data": {
      "text/plain": [
       "smoker  outcome\n",
       "No      Alive      0.685792\n",
       "        Dead       0.314208\n",
       "Yes     Alive      0.761168\n",
       "        Dead       0.238832\n",
       "Name: outcome, dtype: float64"
      ]
     },
     "execution_count": 44,
     "metadata": {},
     "output_type": "execute_result"
    }
   ],
   "source": [
    "bysmoker = smoking.groupby(\"smoker\").outcome.value_counts(normalize=True)\n",
    "bysmoker"
   ]
  },
  {
   "cell_type": "code",
   "execution_count": 45,
   "metadata": {},
   "outputs": [
    {
     "data": {
      "text/plain": [
       "MultiIndex([( 'No', 'Alive'),\n",
       "            ( 'No',  'Dead'),\n",
       "            ('Yes', 'Alive'),\n",
       "            ('Yes',  'Dead')],\n",
       "           names=['smoker', 'outcome'])"
      ]
     },
     "execution_count": 45,
     "metadata": {},
     "output_type": "execute_result"
    }
   ],
   "source": [
    "bysmoker.index"
   ]
  },
  {
   "cell_type": "code",
   "execution_count": 46,
   "metadata": {},
   "outputs": [
    {
     "data": {
      "text/html": [
       "<div>\n",
       "<style scoped>\n",
       "    .dataframe tbody tr th:only-of-type {\n",
       "        vertical-align: middle;\n",
       "    }\n",
       "\n",
       "    .dataframe tbody tr th {\n",
       "        vertical-align: top;\n",
       "    }\n",
       "\n",
       "    .dataframe thead th {\n",
       "        text-align: right;\n",
       "    }\n",
       "</style>\n",
       "<table border=\"1\" class=\"dataframe\">\n",
       "  <thead>\n",
       "    <tr style=\"text-align: right;\">\n",
       "      <th>outcome</th>\n",
       "      <th>Alive</th>\n",
       "      <th>Dead</th>\n",
       "    </tr>\n",
       "    <tr>\n",
       "      <th>smoker</th>\n",
       "      <th></th>\n",
       "      <th></th>\n",
       "    </tr>\n",
       "  </thead>\n",
       "  <tbody>\n",
       "    <tr>\n",
       "      <th>No</th>\n",
       "      <td>0.685792</td>\n",
       "      <td>0.314208</td>\n",
       "    </tr>\n",
       "    <tr>\n",
       "      <th>Yes</th>\n",
       "      <td>0.761168</td>\n",
       "      <td>0.238832</td>\n",
       "    </tr>\n",
       "  </tbody>\n",
       "</table>\n",
       "</div>"
      ],
      "text/plain": [
       "outcome     Alive      Dead\n",
       "smoker                     \n",
       "No       0.685792  0.314208\n",
       "Yes      0.761168  0.238832"
      ]
     },
     "execution_count": 46,
     "metadata": {},
     "output_type": "execute_result"
    }
   ],
   "source": [
    "bysmoker.unstack()"
   ]
  },
  {
   "cell_type": "code",
   "execution_count": 47,
   "metadata": {},
   "outputs": [],
   "source": [
    "smoking['ageGroup'] = pd.cut(smoking.age,[0,30,40,53,64],labels=['0-30','30-40','40-53','53-64'])"
   ]
  },
  {
   "cell_type": "code",
   "execution_count": 48,
   "metadata": {},
   "outputs": [
    {
     "data": {
      "text/plain": [
       "0     0-30\n",
       "1     0-30\n",
       "2      NaN\n",
       "3      NaN\n",
       "4    53-64\n",
       "Name: ageGroup, dtype: category\n",
       "Categories (4, object): [0-30 < 30-40 < 40-53 < 53-64]"
      ]
     },
     "execution_count": 48,
     "metadata": {},
     "output_type": "execute_result"
    }
   ],
   "source": [
    "smoking['ageGroup'].head()"
   ]
  },
  {
   "cell_type": "code",
   "execution_count": 51,
   "metadata": {},
   "outputs": [
    {
     "data": {
      "text/plain": [
       "0     0-30\n",
       "1     0-30\n",
       "2      NaN\n",
       "3      NaN\n",
       "4    53-64\n",
       "Name: ageGroup, dtype: category\n",
       "Categories (4, object): [0-30 < 30-40 < 40-53 < 53-64]"
      ]
     },
     "execution_count": 51,
     "metadata": {},
     "output_type": "execute_result"
    }
   ],
   "source": [
    "smoking['ageGroup'].head()"
   ]
  },
  {
   "cell_type": "code",
   "execution_count": 50,
   "metadata": {},
   "outputs": [
    {
     "data": {
      "text/plain": [
       "0    23\n",
       "1    18\n",
       "2    71\n",
       "3    67\n",
       "4    64\n",
       "Name: age, dtype: int64"
      ]
     },
     "execution_count": 50,
     "metadata": {},
     "output_type": "execute_result"
    }
   ],
   "source": [
    "smoking['age'].head()"
   ]
  },
  {
   "cell_type": "code",
   "execution_count": 52,
   "metadata": {},
   "outputs": [],
   "source": [
    "byyage = smoking.groupby(['ageGroup','smoker']).outcome.value_counts(normalize=True)"
   ]
  },
  {
   "cell_type": "code",
   "execution_count": 54,
   "metadata": {},
   "outputs": [
    {
     "data": {
      "text/html": [
       "<div>\n",
       "<style scoped>\n",
       "    .dataframe tbody tr th:only-of-type {\n",
       "        vertical-align: middle;\n",
       "    }\n",
       "\n",
       "    .dataframe tbody tr th {\n",
       "        vertical-align: top;\n",
       "    }\n",
       "\n",
       "    .dataframe thead th {\n",
       "        text-align: right;\n",
       "    }\n",
       "</style>\n",
       "<table border=\"1\" class=\"dataframe\">\n",
       "  <thead>\n",
       "    <tr style=\"text-align: right;\">\n",
       "      <th></th>\n",
       "      <th>outcome</th>\n",
       "      <th>Alive</th>\n",
       "    </tr>\n",
       "    <tr>\n",
       "      <th>ageGroup</th>\n",
       "      <th>smoker</th>\n",
       "      <th></th>\n",
       "    </tr>\n",
       "  </thead>\n",
       "  <tbody>\n",
       "    <tr>\n",
       "      <th rowspan=\"2\" valign=\"top\">0-30</th>\n",
       "      <th>No</th>\n",
       "      <td>0.981818</td>\n",
       "    </tr>\n",
       "    <tr>\n",
       "      <th>Yes</th>\n",
       "      <td>0.975610</td>\n",
       "    </tr>\n",
       "    <tr>\n",
       "      <th rowspan=\"2\" valign=\"top\">30-40</th>\n",
       "      <th>No</th>\n",
       "      <td>0.955224</td>\n",
       "    </tr>\n",
       "    <tr>\n",
       "      <th>Yes</th>\n",
       "      <td>0.940678</td>\n",
       "    </tr>\n",
       "    <tr>\n",
       "      <th rowspan=\"2\" valign=\"top\">40-53</th>\n",
       "      <th>No</th>\n",
       "      <td>0.876106</td>\n",
       "    </tr>\n",
       "    <tr>\n",
       "      <th>Yes</th>\n",
       "      <td>0.802395</td>\n",
       "    </tr>\n",
       "    <tr>\n",
       "      <th rowspan=\"2\" valign=\"top\">53-64</th>\n",
       "      <th>No</th>\n",
       "      <td>0.669291</td>\n",
       "    </tr>\n",
       "    <tr>\n",
       "      <th>Yes</th>\n",
       "      <td>0.580645</td>\n",
       "    </tr>\n",
       "  </tbody>\n",
       "</table>\n",
       "</div>"
      ],
      "text/plain": [
       "outcome             Alive\n",
       "ageGroup smoker          \n",
       "0-30     No      0.981818\n",
       "         Yes     0.975610\n",
       "30-40    No      0.955224\n",
       "         Yes     0.940678\n",
       "40-53    No      0.876106\n",
       "         Yes     0.802395\n",
       "53-64    No      0.669291\n",
       "         Yes     0.580645"
      ]
     },
     "execution_count": 54,
     "metadata": {},
     "output_type": "execute_result"
    }
   ],
   "source": [
    "byyage.unstack().drop(\"Dead\",axis=1)"
   ]
  },
  {
   "cell_type": "code",
   "execution_count": 56,
   "metadata": {},
   "outputs": [
    {
     "data": {
      "text/plain": [
       "smoker  outcome\n",
       "No      Alive      0.685792\n",
       "        Dead       0.314208\n",
       "Yes     Alive      0.761168\n",
       "        Dead       0.238832\n",
       "Name: outcome, dtype: float64"
      ]
     },
     "execution_count": 56,
     "metadata": {},
     "output_type": "execute_result"
    }
   ],
   "source": [
    "bysmoker\n"
   ]
  },
  {
   "cell_type": "code",
   "execution_count": 57,
   "metadata": {},
   "outputs": [
    {
     "data": {
      "text/plain": [
       "ageGroup  smoker  outcome\n",
       "0-30      No      Alive      0.981818\n",
       "                  Dead       0.018182\n",
       "          Yes     Alive      0.975610\n",
       "                  Dead       0.024390\n",
       "30-40     No      Alive      0.955224\n",
       "                  Dead       0.044776\n",
       "          Yes     Alive      0.940678\n",
       "                  Dead       0.059322\n",
       "40-53     No      Alive      0.876106\n",
       "                  Dead       0.123894\n",
       "          Yes     Alive      0.802395\n",
       "                  Dead       0.197605\n",
       "53-64     No      Alive      0.669291\n",
       "                  Dead       0.330709\n",
       "          Yes     Alive      0.580645\n",
       "                  Dead       0.419355\n",
       "Name: outcome, dtype: float64"
      ]
     },
     "execution_count": 57,
     "metadata": {},
     "output_type": "execute_result"
    }
   ],
   "source": [
    "byyage"
   ]
  },
  {
   "cell_type": "code",
   "execution_count": 60,
   "metadata": {
    "scrolled": true
   },
   "outputs": [
    {
     "data": {
      "text/plain": [
       "Text(0.5, 1.0, 'smoker')"
      ]
     },
     "execution_count": 60,
     "metadata": {},
     "output_type": "execute_result"
    },
    {
     "data": {
      "image/png": "[encoded data removed]",
      "text/plain": [
       "<Figure size 720x288 with 2 Axes>"
      ]
     },
     "metadata": {},
     "output_type": "display_data"
    }
   ],
   "source": [
    "pp.figure(figsize=(10,4))\n",
    "pp.subplot(1,2,1);smoking.outcome.value_counts().plot(kind='pie',colors=['C0','C1']); pp.title('outcome')\n",
    "pp.subplot(1,2,2);smoking.smoker.value_counts().plot(kind='pie',colors=['C2','C3']);pp.title('smoker')"
   ]
  },
  {
   "cell_type": "code",
   "execution_count": 61,
   "metadata": {},
   "outputs": [
    {
     "data": {
      "text/plain": [
       "smoker  outcome\n",
       "No      Alive      0.685792\n",
       "        Dead       0.314208\n",
       "Yes     Alive      0.761168\n",
       "        Dead       0.238832\n",
       "Name: outcome, dtype: float64"
      ]
     },
     "execution_count": 61,
     "metadata": {},
     "output_type": "execute_result"
    }
   ],
   "source": [
    "bysmoker"
   ]
  },
  {
   "cell_type": "code",
   "execution_count": 62,
   "metadata": {},
   "outputs": [
    {
     "data": {
      "text/plain": [
       "<matplotlib.axes._subplots.AxesSubplot at 0x265e3f0ef08>"
      ]
     },
     "execution_count": 62,
     "metadata": {},
     "output_type": "execute_result"
    },
    {
     "data": {
      "image/png": "[encoded data removed]",
      "text/plain": [
       "<Figure size 432x288 with 1 Axes>"
      ]
     },
     "metadata": {
      "needs_background": "light"
     },
     "output_type": "display_data"
    }
   ],
   "source": [
    "bysmoker.plot(kind='bar')"
   ]
  },
  {
   "cell_type": "code",
   "execution_count": 63,
   "metadata": {},
   "outputs": [
    {
     "data": {
      "text/plain": [
       "<matplotlib.axes._subplots.AxesSubplot at 0x265e43a2088>"
      ]
     },
     "execution_count": 63,
     "metadata": {},
     "output_type": "execute_result"
    },
    {
     "data": {
      "image/png": "[encoded data removed]",
      "text/plain": [
       "<Figure size 432x288 with 1 Axes>"
      ]
     },
     "metadata": {
      "needs_background": "light"
     },
     "output_type": "display_data"
    }
   ],
   "source": [
    "bysmoker.unstack().plot(kind='bar',stacked=True)"
   ]
  },
  {
   "cell_type": "code",
   "execution_count": 64,
   "metadata": {},
   "outputs": [
    {
     "data": {
      "text/plain": [
       "<matplotlib.axes._subplots.AxesSubplot at 0x265e3e280c8>"
      ]
     },
     "execution_count": 64,
     "metadata": {},
     "output_type": "execute_result"
    },
    {
     "data": {
      "image/png": "[encoded data removed]",
      "text/plain": [
       "<Figure size 432x288 with 1 Axes>"
      ]
     },
     "metadata": {
      "needs_background": "light"
     },
     "output_type": "display_data"
    }
   ],
   "source": [
    "byyage.unstack().plot(kind='bar',stacked=True)"
   ]
  },
  {
   "cell_type": "code",
   "execution_count": 66,
   "metadata": {},
   "outputs": [
    {
     "data": {
      "text/html": [
       "<div>\n",
       "<style scoped>\n",
       "    .dataframe tbody tr th:only-of-type {\n",
       "        vertical-align: middle;\n",
       "    }\n",
       "\n",
       "    .dataframe tbody tr th {\n",
       "        vertical-align: top;\n",
       "    }\n",
       "\n",
       "    .dataframe thead tr th {\n",
       "        text-align: left;\n",
       "    }\n",
       "\n",
       "    .dataframe thead tr:last-of-type th {\n",
       "        text-align: right;\n",
       "    }\n",
       "</style>\n",
       "<table border=\"1\" class=\"dataframe\">\n",
       "  <thead>\n",
       "    <tr>\n",
       "      <th>outcome</th>\n",
       "      <th colspan=\"2\" halign=\"left\">Alive</th>\n",
       "    </tr>\n",
       "    <tr>\n",
       "      <th>smoker</th>\n",
       "      <th>No</th>\n",
       "      <th>Yes</th>\n",
       "    </tr>\n",
       "    <tr>\n",
       "      <th>ageGroup</th>\n",
       "      <th></th>\n",
       "      <th></th>\n",
       "    </tr>\n",
       "  </thead>\n",
       "  <tbody>\n",
       "    <tr>\n",
       "      <th>0-30</th>\n",
       "      <td>0.981818</td>\n",
       "      <td>0.975610</td>\n",
       "    </tr>\n",
       "    <tr>\n",
       "      <th>30-40</th>\n",
       "      <td>0.955224</td>\n",
       "      <td>0.940678</td>\n",
       "    </tr>\n",
       "    <tr>\n",
       "      <th>40-53</th>\n",
       "      <td>0.876106</td>\n",
       "      <td>0.802395</td>\n",
       "    </tr>\n",
       "    <tr>\n",
       "      <th>53-64</th>\n",
       "      <td>0.669291</td>\n",
       "      <td>0.580645</td>\n",
       "    </tr>\n",
       "  </tbody>\n",
       "</table>\n",
       "</div>"
      ],
      "text/plain": [
       "outcome      Alive          \n",
       "smoker          No       Yes\n",
       "ageGroup                    \n",
       "0-30      0.981818  0.975610\n",
       "30-40     0.955224  0.940678\n",
       "40-53     0.876106  0.802395\n",
       "53-64     0.669291  0.580645"
      ]
     },
     "execution_count": 66,
     "metadata": {},
     "output_type": "execute_result"
    }
   ],
   "source": [
    "byyage.unstack().drop(\"Dead\",axis=1).unstack()"
   ]
  },
  {
   "cell_type": "code",
   "execution_count": 67,
   "metadata": {},
   "outputs": [],
   "source": [
    "byage2 = byyage.unstack().drop(\"Dead\",axis=1).unstack()\n",
    "\n",
    "byage2.columns =[\"No\",\"Yes\"]\n",
    "byage2.columns.name = \"smoker\""
   ]
  },
  {
   "cell_type": "code",
   "execution_count": 68,
   "metadata": {},
   "outputs": [
    {
     "data": {
      "text/html": [
       "<div>\n",
       "<style scoped>\n",
       "    .dataframe tbody tr th:only-of-type {\n",
       "        vertical-align: middle;\n",
       "    }\n",
       "\n",
       "    .dataframe tbody tr th {\n",
       "        vertical-align: top;\n",
       "    }\n",
       "\n",
       "    .dataframe thead th {\n",
       "        text-align: right;\n",
       "    }\n",
       "</style>\n",
       "<table border=\"1\" class=\"dataframe\">\n",
       "  <thead>\n",
       "    <tr style=\"text-align: right;\">\n",
       "      <th>smoker</th>\n",
       "      <th>No</th>\n",
       "      <th>Yes</th>\n",
       "    </tr>\n",
       "    <tr>\n",
       "      <th>ageGroup</th>\n",
       "      <th></th>\n",
       "      <th></th>\n",
       "    </tr>\n",
       "  </thead>\n",
       "  <tbody>\n",
       "    <tr>\n",
       "      <th>0-30</th>\n",
       "      <td>0.981818</td>\n",
       "      <td>0.975610</td>\n",
       "    </tr>\n",
       "    <tr>\n",
       "      <th>30-40</th>\n",
       "      <td>0.955224</td>\n",
       "      <td>0.940678</td>\n",
       "    </tr>\n",
       "    <tr>\n",
       "      <th>40-53</th>\n",
       "      <td>0.876106</td>\n",
       "      <td>0.802395</td>\n",
       "    </tr>\n",
       "    <tr>\n",
       "      <th>53-64</th>\n",
       "      <td>0.669291</td>\n",
       "      <td>0.580645</td>\n",
       "    </tr>\n",
       "  </tbody>\n",
       "</table>\n",
       "</div>"
      ],
      "text/plain": [
       "smoker          No       Yes\n",
       "ageGroup                    \n",
       "0-30      0.981818  0.975610\n",
       "30-40     0.955224  0.940678\n",
       "40-53     0.876106  0.802395\n",
       "53-64     0.669291  0.580645"
      ]
     },
     "execution_count": 68,
     "metadata": {},
     "output_type": "execute_result"
    }
   ],
   "source": [
    "byage2"
   ]
  },
  {
   "cell_type": "code",
   "execution_count": 69,
   "metadata": {},
   "outputs": [
    {
     "data": {
      "text/plain": [
       "<matplotlib.axes._subplots.AxesSubplot at 0x265e4218948>"
      ]
     },
     "execution_count": 69,
     "metadata": {},
     "output_type": "execute_result"
    },
    {
     "data": {
      "image/png": "[encoded data removed]",
      "text/plain": [
       "<Figure size 432x288 with 1 Axes>"
      ]
     },
     "metadata": {
      "needs_background": "light"
     },
     "output_type": "display_data"
    }
   ],
   "source": [
    "byage2.plot(kind='bar')"
   ]
  },
  {
   "cell_type": "code",
   "execution_count": null,
   "metadata": {},
   "outputs": [],
   "source": []
  }
 ],
 "metadata": {
  "kernelspec": {
   "display_name": "Python 3",
   "language": "python",
   "name": "python3"
  },
  "language_info": {
   "codemirror_mode": {
    "name": "ipython",
    "version": 3
   },
   "file_extension": ".py",
   "mimetype": "text/x-python",
   "name": "python",
   "nbconvert_exporter": "python",
   "pygments_lexer": "ipython3",
   "version": "3.7.6"
  }
 },
 "nbformat": 4,
 "nbformat_minor": 4
}
